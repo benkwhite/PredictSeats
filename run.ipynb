{
 "cells": [
  {
   "cell_type": "code",
   "execution_count": 1,
   "metadata": {},
   "outputs": [],
   "source": [
    "# Does not include training, only testing\n",
    "%load_ext autoreload\n",
    "%autoreload 2\n",
    "%aimport RNN_model, RNN_apply_ind"
   ]
  },
  {
   "cell_type": "code",
   "execution_count": null,
   "metadata": {},
   "outputs": [],
   "source": [
    "'''\n",
    "If not have run before\n",
    "'''\n",
    "import RNN_apply_ind, os, json, argparse\n",
    "\n",
    "folder_path = r'C:\\Users\\qilei.zhang\\OneDrive - Frontier Airlines\\Documents\\Data\\USconti'\n",
    "seats_file_name = r'\\Schedule_Monthly_Summary_Report_Conti.csv'\n",
    "perf_file_name = r'\\Airline_Performance_Report_Conti.csv'\n",
    "apply_file_name = '\\Schedule_Monthly_Summary_2023Q1234.csv'\n",
    "# Load parameters from the JSON file.\n",
    "if not os.path.exists('parameters.json'):\n",
    "    print(\"parameters.json does not exist, Find the file and put it in the same folder as this file\")\n",
    "with open('parameters.json', 'r') as f:\n",
    "    args = argparse.Namespace(**json.load(f))\n",
    "\n",
    "RNN_apply_ind.main_apply(args, folder_path, seats_file_name, perf_file_name, apply_file_name)"
   ]
  },
  {
   "cell_type": "code",
   "execution_count": 19,
   "metadata": {},
   "outputs": [],
   "source": [
    "'''\n",
    "quick look at the result\n",
    "'''\n",
    "import pandas as pd\n",
    "from RNN_apply_ind import DataAna\n",
    "\n",
    "apply_filename='./data/applying_data.csv'\n",
    "ana_df_name = \"./results/data_to_ana_apply.csv\"\n",
    "orig_df = pd.read_csv(apply_filename)\n",
    "\n",
    "ana = DataAna(ana_df_name)\n",
    "ana.merge_previous_data(orig_df)\n",
    "\n",
    "while True:\n",
    "    user_input = input(\"Enter airline and route, separated by comma, or 'c' to exit: \")\n",
    "    if user_input.lower() == 'c':\n",
    "        break\n",
    "    try:\n",
    "        airline, route = user_input.split(',')\n",
    "        airline = airline.strip()  # remove possible leading/trailing whitespaces\n",
    "        route = route.strip()  # remove possible leading/trailing whitespaces\n",
    "        ana.plot_prediction(airline, route)\n",
    "    except ValueError:\n",
    "        print(\"Invalid input, please enter the airline and route separated by a comma or 'continue' to proceed.\")"
   ]
  },
  {
   "cell_type": "code",
   "execution_count": 14,
   "metadata": {},
   "outputs": [],
   "source": [
    "'''\n",
    "Add new performance data and seats data to original data\n",
    "'''\n",
    "\n",
    "import pandas as pd\n",
    "\n",
    "folder_path = r'C:\\Users\\qilei.zhang\\OneDrive - Frontier Airlines\\Documents\\Data\\USconti'\n",
    "seats_file_name = r'\\Schedule_Monthly_Summary_Report_Conti.csv'\n",
    "perf_file_name = r'\\Airline_Performance_Report_Conti.csv'\n",
    "\n",
    "seats_file_new = r'\\Schedule_Monthly_Summary_2023Q1.csv'\n",
    "perf_file_new = r'\\Airline_Performance_Report_USconti_2023Q1.csv'\n",
    "\n",
    "seats_df = pd.read_csv(folder_path + seats_file_name)\n",
    "perf_df = pd.read_csv(folder_path + perf_file_name)\n",
    "\n",
    "seats_df_new = pd.read_csv(folder_path + seats_file_new)\n",
    "perf_df_new = pd.read_csv(folder_path + perf_file_new)\n",
    "\n",
    "\n",
    "# Check the column names are the same othewise not proceed\n",
    "if not (seats_df.columns == seats_df_new.columns).all():\n",
    "    print(\"Column names are not the same, please check the data\")\n",
    "    raise ValueError\n",
    "\n",
    "if not (perf_df.columns == perf_df_new.columns).all():\n",
    "    print(\"Column names are not the same, please check the data\")\n",
    "    raise ValueError\n",
    "\n",
    "# Check the data types are the same othewise not proceed\n",
    "if not (seats_df.dtypes == seats_df_new.dtypes).all():\n",
    "    print(\"Column types are not the same, please check the data\")\n",
    "    raise ValueError\n",
    "\n",
    "if not (perf_df.dtypes == perf_df_new.dtypes).all():\n",
    "    print(\"Column types are not the same, please check the data\")\n",
    "    raise ValueError\n",
    "\n",
    "seats_df = pd.concat([seats_df, seats_df_new])\n",
    "perf_df = pd.concat([perf_df, perf_df_new])\n",
    "\n",
    "seats_df.to_csv(folder_path + seats_file_name, index=False)\n",
    "perf_df.to_csv(folder_path + perf_file_name, index=False)\n"
   ]
  },
  {
   "cell_type": "code",
   "execution_count": 17,
   "metadata": {},
   "outputs": [
    {
     "data": {
      "text/plain": [
       "('Q2 2022', 'Q1 2020', 'Q4 2020')"
      ]
     },
     "execution_count": 17,
     "metadata": {},
     "output_type": "execute_result"
    }
   ],
   "source": [
    "from RNN_model import calculate_quarters\n",
    "\n",
    "calculate_quarters(3, 10, \"Q1 2023\")"
   ]
  },
  {
   "cell_type": "code",
   "execution_count": null,
   "metadata": {},
   "outputs": [],
   "source": []
  },
  {
   "cell_type": "code",
   "execution_count": null,
   "metadata": {},
   "outputs": [],
   "source": []
  }
 ],
 "metadata": {
  "kernelspec": {
   "display_name": "Python 3 (ipykernel)",
   "language": "python",
   "name": "python3"
  },
  "language_info": {
   "codemirror_mode": {
    "name": "ipython",
    "version": 3
   },
   "file_extension": ".py",
   "mimetype": "text/x-python",
   "name": "python",
   "nbconvert_exporter": "python",
   "pygments_lexer": "ipython3",
   "version": "3.11.4"
  }
 },
 "nbformat": 4,
 "nbformat_minor": 2
}
