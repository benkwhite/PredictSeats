{
 "cells": [
  {
   "cell_type": "code",
   "execution_count": 1,
   "metadata": {},
   "outputs": [],
   "source": [
    "%load_ext autoreload\n",
    "%autoreload 2\n",
    "%aimport RNN_model, RNN_apply_ind"
   ]
  },
  {
   "cell_type": "markdown",
   "metadata": {},
   "source": [
    "# MSE"
   ]
  },
  {
   "cell_type": "code",
   "execution_count": 2,
   "metadata": {},
   "outputs": [
    {
     "name": "stdout",
     "output_type": "stream",
     "text": [
      "Using the provided arguments.\n",
      "-------- Start ----------\n",
      "Will use cpu as device\n",
      "Missing airports database loaded.\n",
      "Major hubs database loaded.\n",
      "Dimension mapping loaded.\n",
      "Applying data does not exist, will create it\n",
      "The data is cleaned.\n",
      "The geo features are assigned.\n",
      "The origin, destination and airline are encoded.\n",
      "The airports coordinates are calculated.\n",
      "The airline features are assigned.\n",
      "The pandamic features are assigned.\n",
      "The competitors are calculated.\n",
      "The market share is calculated.\n",
      "The market size is calculated.\n",
      "The test data is created.\n",
      "Original data loaded.\n",
      "Main scaler rebuilt.\n",
      "Seat scaler rebuilt.\n",
      "Apply data scaled.\n",
      "Validation data scaled.\n",
      "Date features created.\n",
      "Validation data prepared.\n",
      "Model loaded\n",
      "Evaluating: batch 100 of 664\n",
      "Evaluating: batch 200 of 664\n",
      "Evaluating: batch 300 of 664\n",
      "Evaluating: batch 400 of 664\n",
      "Evaluating: batch 500 of 664\n",
      "Evaluating: batch 600 of 664\n",
      "           MAE          RMSE       MAPE  std       <1%       <5%      <10%  \\\n",
      "0  4260.858398   6365.730957  28.513750  NaN  0.046561  0.238360  0.447595   \n",
      "1  7376.108887  14954.099609  23.391747  NaN  0.042920  0.216325  0.397203   \n",
      "2  7443.144043  13258.442383  21.146229  NaN  0.038322  0.193332  0.364054   \n",
      "\n",
      "       <20%  \n",
      "0  0.716038  \n",
      "1  0.659897  \n",
      "2  0.629623  \n",
      "There is 5306 routes in the route dictionary\n",
      "Time used: 1.329944368203481 minutes\n",
      "-------- End ----------\n"
     ]
    }
   ],
   "source": [
    "import RNN_apply_ind, os, json, argparse\n",
    "\n",
    "folder_path = r'C:\\Users\\qilei.zhang\\OneDrive - Frontier Airlines\\Documents\\Data\\USconti'\n",
    "seats_file_name = r'\\Schedule_Monthly_Summary_Report_Conti.csv'\n",
    "perf_file_name = r'\\Airline_Performance_Report_Conti.csv'\n",
    "apply_file_name = '\\Schedule_Monthly_Summary_2023Q123.csv'\n",
    "# Load parameters from the JSON file.\n",
    "if not os.path.exists('parameters.json'):\n",
    "    print(\"parameters.json does not exist, Find the file and put it in the same folder as this file\")\n",
    "with open('parameters.json', 'r') as f:\n",
    "    args = argparse.Namespace(**json.load(f))\n",
    "\n",
    "RNN_apply_ind.main_apply(args, folder_path, seats_file_name, perf_file_name, apply_file_name)"
   ]
  },
  {
   "cell_type": "markdown",
   "metadata": {},
   "source": [
    "# GLS"
   ]
  },
  {
   "cell_type": "code",
   "execution_count": null,
   "metadata": {},
   "outputs": [],
   "source": [
    "import RNN_apply_ind, os, json, argparse\n",
    "\n",
    "folder_path = r'C:\\Users\\qilei.zhang\\OneDrive - Frontier Airlines\\Documents\\Data\\USconti'\n",
    "seats_file_name = r'\\Schedule_Monthly_Summary_Report_Conti.csv'\n",
    "perf_file_name = r'\\Airline_Performance_Report_Conti.csv'\n",
    "apply_file_name = '\\Schedule_Monthly_Summary_2023Q1234.csv'\n",
    "# Load parameters from the JSON file.\n",
    "if not os.path.exists('parameters.json'):\n",
    "    print(\"parameters.json does not exist, Find the file and put it in the same folder as this file\")\n",
    "with open('parameters.json', 'r') as f:\n",
    "    args = argparse.Namespace(**json.load(f))\n",
    "\n",
    "RNN_apply_ind.main_apply(args, folder_path, seats_file_name, perf_file_name, apply_file_name)"
   ]
  }
 ],
 "metadata": {
  "kernelspec": {
   "display_name": "Python 3 (ipykernel)",
   "language": "python",
   "name": "python3"
  },
  "language_info": {
   "codemirror_mode": {
    "name": "ipython",
    "version": 3
   },
   "file_extension": ".py",
   "mimetype": "text/x-python",
   "name": "python",
   "nbconvert_exporter": "python",
   "pygments_lexer": "ipython3",
   "version": "3.11.4"
  }
 },
 "nbformat": 4,
 "nbformat_minor": 2
}
